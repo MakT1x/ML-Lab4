{
 "cells": [
  {
   "cell_type": "code",
   "execution_count": 1,
   "metadata": {},
   "outputs": [],
   "source": [
    "#Loa d Da ta set \n",
    "import struct \n",
    "import numpy as np \n",
    "import matplotlib.pyplot as plt \n",
    " \n",
    "# ==========Load IDX Files ========== \n",
    "def load_images(filename): \n",
    "    with open(filename, 'rb') as f: \n",
    "        _, num, rows, cols = struct.unpack(\">IIII\",f.read(16)) \n",
    "        images=np.frombuffer(f.read(), dtype=np.uint8) \n",
    "        images = images[:(len(images)//(rows * cols)) * rows * cols] \n",
    "        return images.reshape(-1, rows * cols).astype(np.float32) / 255.0 \n",
    " \n",
    "def load_labels(filename): \n",
    "    with open(filename, 'rb') as f: \n",
    "        _, num = struct.unpack(\">II\", f.read(8)) \n",
    "        labels = np.frombuffer(f.read(),dtype=np.uint8) \n",
    "        return labels[:num]"
   ]
  },
  {
   "cell_type": "code",
   "execution_count": 2,
   "metadata": {},
   "outputs": [],
   "source": [
    "# ========== 1. Sigmoid Function ========== \n",
    "def sigmoid(z): \n",
    "    a = 1.0 / (1.0 + np.exp(-z))\n",
    "    return a\n",
    " \n",
    "# ====== 2. Mini Batch SGD: Algorithm 7.2 ====== \n",
    "def sgd_minibatch(X, y, eta=0.01, max_iters=10000, batch_size=64): \n",
    "        m, n = X.shape \n",
    "        theta = np.zeros(n) \n",
    "        for i in range(max_iters): \n",
    "            indices = np.random.choice(m, batch_size) \n",
    "            X_batch = X[indices] \n",
    "            y_batch = y[indices] \n",
    "            gradient = -X_batch.T @ (y_batch - sigmoid(X_batch @ theta)) / batch_size \n",
    "            theta -= eta * gradient \n",
    "        return theta\n",
    " \n",
    "# ===== 3. Mini Batch SGD with Momentum: Algorithm 7.3 ===== \n",
    "def  sgd_minibatch_momentum(X,  y,  eta=0.01,  max_iters=10000, batch_size=64, momentum=0.9): \n",
    "    m, n = X.shape \n",
    "    theta = np.zeros(n) \n",
    "    v = np.zeros(n) \n",
    "    for i in range(max_iters): \n",
    "        indices = np.random.choice(m, batch_size) \n",
    "        X_batch = X[indices] \n",
    "        y_batch = y[indices] \n",
    "        gradient = -X_batch.T @ (y_batch - sigmoid(X_batch @ theta)) / batch_size \n",
    "        v = momentum * v - eta * gradient \n",
    "        theta += v \n",
    "    return theta\n",
    " \n",
    "# ====== 4. Adam Optimizer: Algorithm 7.4 ====== \n",
    "def sgd_Adam(X, y, eta=0.001, max_iters=10000, batch_size=64, beta1=0.9, beta2=0.999, delta=1e-8): \n",
    "    m, n = X.shape \n",
    "    theta = np.zeros(n) \n",
    "    m1 = np.zeros(n) \n",
    "    m2 = np.zeros(n) \n",
    "    for i in range(max_iters): \n",
    "        indices = np.random.choice(m, batch_size) \n",
    "        X_batch = X[indices] \n",
    "        y_batch = y[indices] \n",
    "        gradient = -X_batch.T @ (y_batch - sigmoid(X_batch @ theta)) / batch_size\n",
    "        m1 = beta1 * m1 + (1 - beta1) * gradient \n",
    "        m2 = beta2 * m2 + (1 - beta2) * gradient ** 2 \n",
    "        m1_hat = m1 / (1 - beta1 ** (i + 1)) \n",
    "        m2_hat = m2 / (1 - beta2 ** (i + 1)) \n",
    "        theta -= eta * m1_hat / (np.sqrt(m2_hat) + delta) \n",
    "    return theta"
   ]
  },
  {
   "cell_type": "code",
   "execution_count": 3,
   "metadata": {},
   "outputs": [],
   "source": [
    "# ==========Show Misclassified Samples ========== \n",
    "def show_misclassified(X, true_labels, pred_labels, max_show=10): \n",
    "    mis_idx = np.where(true_labels != pred_labels)[0][:max_show] \n",
    "    plt.figure(figsize=(10, 2)) \n",
    "    for i, idx in enumerate(mis_idx): \n",
    "        plt.subplot(1, len(mis_idx), i + 1) \n",
    "        plt.imshow(X[idx, 1:].reshape(28, 28), cmap='gray') \n",
    "        plt.axis('off') \n",
    "        plt.title(f\"T:{true_labels[idx]} P:{pred_labels[idx]}\") \n",
    "    plt.suptitle(\"Misclassified Samples\") \n",
    "    plt.show()"
   ]
  },
  {
   "cell_type": "code",
   "execution_count": 7,
   "metadata": {},
   "outputs": [
    {
     "name": "stdout",
     "output_type": "stream",
     "text": [
      "Train Accuracy_min: 0.9182\n",
      "Test Accuracy_min: 0.9196\n"
     ]
    },
    {
     "name": "stderr",
     "output_type": "stream",
     "text": [
      "C:\\Users\\user1\\AppData\\Local\\Temp\\ipykernel_23616\\630681371.py:3: DeprecationWarning: elementwise comparison failed; this will raise an error in the future.\n",
      "  mis_idx = np.where(true_labels != pred_labels)[0][:max_show]\n"
     ]
    },
    {
     "data": {
      "image/png": "[encoded data removed]",
      "text/plain": [
       "<Figure size 1000x200 with 1 Axes>"
      ]
     },
     "metadata": {},
     "output_type": "display_data"
    },
    {
     "data": {
      "image/png": "[encoded data removed]",
      "text/plain": [
       "<Figure size 1000x200 with 1 Axes>"
      ]
     },
     "metadata": {},
     "output_type": "display_data"
    }
   ],
   "source": [
    "# ========== 3. Main ========== \n",
    "if __name__ == \"__main__\": \n",
    "    # === Load Data === \n",
    "    X_train = load_images(\"train-images.idx3-ubyte____\") \n",
    "    y_train = load_labels(\"train-labels.idx1-ubyte____\") \n",
    "    X_test = load_images(\"t10k-images.idx3-ubyte____\") \n",
    "    y_test = load_labels(\"t10k-labels.idx1-ubyte____\") \n",
    " \n",
    "    # === Choose binary classification target digit === \n",
    "    TARGET_DIGIT = 0   # TODO: Fill in (0 to 9) \n",
    " \n",
    "    y_train_bin = np.where(y_train == TARGET_DIGIT, 1, 0) \n",
    "    y_test_bin = np.where(y_test == TARGET_DIGIT, 1, 0)\n",
    "    # === Add bias term === \n",
    "    X_train = np.hstack([np.ones((X_train.shape[0], 1)), X_train]) \n",
    "    X_test = np.hstack([np.ones((X_test.shape[0], 1)), X_test]) \n",
    " \n",
    "    # === Set parameters === \n",
    "    eta = 0.01\n",
    "    max_iters = 100\n",
    "    batch_size = 64\n",
    "    momentum = 0.9\n",
    "    beta1 = 0.9\n",
    "    beta2 = 0.999\n",
    "    delta = 1e-8\n",
    " \n",
    "    # === Train === \n",
    "    theta_min = sgd_minibatch(X_train, y_train_bin, eta, max_iters, batch_size)\n",
    "    theta2 = sgd_minibatch_momentum(X_train, y_train_bin, eta, max_iters, batch_size, momentum) \n",
    "    theta3 = sgd_Adam(X_train, y_train_bin, eta, max_iters, batch_size, beta1, beta2, delta)\n",
    " \n",
    "    # === Predict === \n",
    "    y_train1_min = (sigmoid(X_train @ theta_min) >= 0.5).astype(int)\n",
    "    y_pred1_min = (sigmoid(X_test @ theta_min) >= 0.5).astype(int)\n",
    " \n",
    "    # === Evaluate === \n",
    "    train_accuracy_min = np.mean(y_train1_min == y_train_bin)\n",
    "    test_accuracy_min = np.mean(y_pred1_min == y_test_bin)\n",
    "    print(f\"Train Accuracy_min: {train_accuracy_min:.4f}\")\n",
    "    print(f\"Test Accuracy_min: {test_accuracy_min:.4f}\")\n",
    " \n",
    "    # === Show Misclassified Samples === \n",
    "    show_misclassified(X_test, y_test_bin, y_train1_min, max_show=10)\n",
    "    show_misclassified(X_train, y_train_bin, y_pred1_min, max_show=10)\n"
   ]
  }
 ],
 "metadata": {
  "kernelspec": {
   "display_name": "Python 3",
   "language": "python",
   "name": "python3"
  },
  "language_info": {
   "codemirror_mode": {
    "name": "ipython",
    "version": 3
   },
   "file_extension": ".py",
   "mimetype": "text/x-python",
   "name": "python",
   "nbconvert_exporter": "python",
   "pygments_lexer": "ipython3",
   "version": "3.11.8"
  }
 },
 "nbformat": 4,
 "nbformat_minor": 2
}
